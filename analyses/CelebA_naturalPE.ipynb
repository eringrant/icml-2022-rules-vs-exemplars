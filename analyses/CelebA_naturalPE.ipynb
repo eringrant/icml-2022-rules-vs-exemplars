{
 "cells": [
  {
   "cell_type": "code",
   "execution_count": 1,
   "metadata": {
    "collapsed": true
   },
   "outputs": [],
   "source": [
    "import matplotlib.pyplot as plt\n",
    "import numpy as np\n",
    "import tensorflow as tf\n",
    "import pandas as pd\n",
    "\n",
    "from collections import Counter\n",
    "from string import punctuation"
   ]
  },
  {
   "cell_type": "markdown",
   "metadata": {
    "collapsed": true
   },
   "source": [
    "# Checking IMBD sentiment analysis \n",
    "\n",
    "Analyse random subset of 10k examples to test the presence of which words are candidate distractors"
   ]
  },
  {
   "cell_type": "code",
   "execution_count": 2,
   "metadata": {
    "collapsed": false
   },
   "outputs": [],
   "source": [
    "attr_path = 'list_attr_celeba.txt'\n",
    "with open(attr_path, 'r') as f:\n",
    "    text = f.readlines()\n",
    "data = []\n",
    "col_names = text[1].split()\n",
    "for l in text[2:]:\n",
    "    row = l.split()\n",
    "    row = [int(x) for x in row[1:]]\n",
    "    data.append(np.array(row))\n",
    "col_names = np.array(col_names)    "
   ]
  },
  {
   "cell_type": "code",
   "execution_count": 3,
   "metadata": {
    "collapsed": false
   },
   "outputs": [
    {
     "data": {
      "text/html": [
       "<div>\n",
       "<style scoped>\n",
       "    .dataframe tbody tr th:only-of-type {\n",
       "        vertical-align: middle;\n",
       "    }\n",
       "\n",
       "    .dataframe tbody tr th {\n",
       "        vertical-align: top;\n",
       "    }\n",
       "\n",
       "    .dataframe thead th {\n",
       "        text-align: right;\n",
       "    }\n",
       "</style>\n",
       "<table border=\"1\" class=\"dataframe\">\n",
       "  <thead>\n",
       "    <tr style=\"text-align: right;\">\n",
       "      <th></th>\n",
       "      <th>5_o_Clock_Shadow</th>\n",
       "      <th>Arched_Eyebrows</th>\n",
       "      <th>Attractive</th>\n",
       "      <th>Bags_Under_Eyes</th>\n",
       "      <th>Bald</th>\n",
       "      <th>Bangs</th>\n",
       "      <th>Big_Lips</th>\n",
       "      <th>Big_Nose</th>\n",
       "      <th>Black_Hair</th>\n",
       "      <th>Blond_Hair</th>\n",
       "      <th>...</th>\n",
       "      <th>Sideburns</th>\n",
       "      <th>Smiling</th>\n",
       "      <th>Straight_Hair</th>\n",
       "      <th>Wavy_Hair</th>\n",
       "      <th>Wearing_Earrings</th>\n",
       "      <th>Wearing_Hat</th>\n",
       "      <th>Wearing_Lipstick</th>\n",
       "      <th>Wearing_Necklace</th>\n",
       "      <th>Wearing_Necktie</th>\n",
       "      <th>Young</th>\n",
       "    </tr>\n",
       "  </thead>\n",
       "  <tbody>\n",
       "    <tr>\n",
       "      <th>0</th>\n",
       "      <td>0.0</td>\n",
       "      <td>1.0</td>\n",
       "      <td>1.0</td>\n",
       "      <td>0.0</td>\n",
       "      <td>0.0</td>\n",
       "      <td>0.0</td>\n",
       "      <td>0.0</td>\n",
       "      <td>0.0</td>\n",
       "      <td>0.0</td>\n",
       "      <td>0.0</td>\n",
       "      <td>...</td>\n",
       "      <td>0.0</td>\n",
       "      <td>1.0</td>\n",
       "      <td>1.0</td>\n",
       "      <td>0.0</td>\n",
       "      <td>1.0</td>\n",
       "      <td>0.0</td>\n",
       "      <td>1.0</td>\n",
       "      <td>0.0</td>\n",
       "      <td>0.0</td>\n",
       "      <td>1.0</td>\n",
       "    </tr>\n",
       "    <tr>\n",
       "      <th>1</th>\n",
       "      <td>0.0</td>\n",
       "      <td>0.0</td>\n",
       "      <td>0.0</td>\n",
       "      <td>1.0</td>\n",
       "      <td>0.0</td>\n",
       "      <td>0.0</td>\n",
       "      <td>0.0</td>\n",
       "      <td>1.0</td>\n",
       "      <td>0.0</td>\n",
       "      <td>0.0</td>\n",
       "      <td>...</td>\n",
       "      <td>0.0</td>\n",
       "      <td>1.0</td>\n",
       "      <td>0.0</td>\n",
       "      <td>0.0</td>\n",
       "      <td>0.0</td>\n",
       "      <td>0.0</td>\n",
       "      <td>0.0</td>\n",
       "      <td>0.0</td>\n",
       "      <td>0.0</td>\n",
       "      <td>1.0</td>\n",
       "    </tr>\n",
       "    <tr>\n",
       "      <th>2</th>\n",
       "      <td>0.0</td>\n",
       "      <td>0.0</td>\n",
       "      <td>0.0</td>\n",
       "      <td>0.0</td>\n",
       "      <td>0.0</td>\n",
       "      <td>0.0</td>\n",
       "      <td>1.0</td>\n",
       "      <td>0.0</td>\n",
       "      <td>0.0</td>\n",
       "      <td>0.0</td>\n",
       "      <td>...</td>\n",
       "      <td>0.0</td>\n",
       "      <td>0.0</td>\n",
       "      <td>0.0</td>\n",
       "      <td>1.0</td>\n",
       "      <td>0.0</td>\n",
       "      <td>0.0</td>\n",
       "      <td>0.0</td>\n",
       "      <td>0.0</td>\n",
       "      <td>0.0</td>\n",
       "      <td>1.0</td>\n",
       "    </tr>\n",
       "    <tr>\n",
       "      <th>3</th>\n",
       "      <td>0.0</td>\n",
       "      <td>0.0</td>\n",
       "      <td>1.0</td>\n",
       "      <td>0.0</td>\n",
       "      <td>0.0</td>\n",
       "      <td>0.0</td>\n",
       "      <td>0.0</td>\n",
       "      <td>0.0</td>\n",
       "      <td>0.0</td>\n",
       "      <td>0.0</td>\n",
       "      <td>...</td>\n",
       "      <td>0.0</td>\n",
       "      <td>0.0</td>\n",
       "      <td>1.0</td>\n",
       "      <td>0.0</td>\n",
       "      <td>1.0</td>\n",
       "      <td>0.0</td>\n",
       "      <td>1.0</td>\n",
       "      <td>1.0</td>\n",
       "      <td>0.0</td>\n",
       "      <td>1.0</td>\n",
       "    </tr>\n",
       "    <tr>\n",
       "      <th>4</th>\n",
       "      <td>0.0</td>\n",
       "      <td>1.0</td>\n",
       "      <td>1.0</td>\n",
       "      <td>0.0</td>\n",
       "      <td>0.0</td>\n",
       "      <td>0.0</td>\n",
       "      <td>1.0</td>\n",
       "      <td>0.0</td>\n",
       "      <td>0.0</td>\n",
       "      <td>0.0</td>\n",
       "      <td>...</td>\n",
       "      <td>0.0</td>\n",
       "      <td>0.0</td>\n",
       "      <td>0.0</td>\n",
       "      <td>0.0</td>\n",
       "      <td>0.0</td>\n",
       "      <td>0.0</td>\n",
       "      <td>1.0</td>\n",
       "      <td>0.0</td>\n",
       "      <td>0.0</td>\n",
       "      <td>1.0</td>\n",
       "    </tr>\n",
       "  </tbody>\n",
       "</table>\n",
       "<p>5 rows × 40 columns</p>\n",
       "</div>"
      ],
      "text/plain": [
       "   5_o_Clock_Shadow  Arched_Eyebrows  Attractive  Bags_Under_Eyes  Bald  \\\n",
       "0               0.0              1.0         1.0              0.0   0.0   \n",
       "1               0.0              0.0         0.0              1.0   0.0   \n",
       "2               0.0              0.0         0.0              0.0   0.0   \n",
       "3               0.0              0.0         1.0              0.0   0.0   \n",
       "4               0.0              1.0         1.0              0.0   0.0   \n",
       "\n",
       "   Bangs  Big_Lips  Big_Nose  Black_Hair  Blond_Hair  ...  Sideburns  Smiling  \\\n",
       "0    0.0       0.0       0.0         0.0         0.0  ...        0.0      1.0   \n",
       "1    0.0       0.0       1.0         0.0         0.0  ...        0.0      1.0   \n",
       "2    0.0       1.0       0.0         0.0         0.0  ...        0.0      0.0   \n",
       "3    0.0       0.0       0.0         0.0         0.0  ...        0.0      0.0   \n",
       "4    0.0       1.0       0.0         0.0         0.0  ...        0.0      0.0   \n",
       "\n",
       "   Straight_Hair  Wavy_Hair  Wearing_Earrings  Wearing_Hat  Wearing_Lipstick  \\\n",
       "0            1.0        0.0               1.0          0.0               1.0   \n",
       "1            0.0        0.0               0.0          0.0               0.0   \n",
       "2            0.0        1.0               0.0          0.0               0.0   \n",
       "3            1.0        0.0               1.0          0.0               1.0   \n",
       "4            0.0        0.0               0.0          0.0               1.0   \n",
       "\n",
       "   Wearing_Necklace  Wearing_Necktie  Young  \n",
       "0               0.0              0.0    1.0  \n",
       "1               0.0              0.0    1.0  \n",
       "2               0.0              0.0    1.0  \n",
       "3               1.0              0.0    1.0  \n",
       "4               0.0              0.0    1.0  \n",
       "\n",
       "[5 rows x 40 columns]"
      ]
     },
     "execution_count": 3,
     "metadata": {},
     "output_type": "execute_result"
    }
   ],
   "source": [
    "df = pd.DataFrame(data = data, columns = col_names)\n",
    "df = (df + 1)/2\n",
    "df.head()"
   ]
  },
  {
   "cell_type": "code",
   "execution_count": 43,
   "metadata": {
    "collapsed": false
   },
   "outputs": [
    {
     "name": "stdout",
     "output_type": "stream",
     "text": [
      "Attractive 0.03\n",
      "High_Cheekbones 0.09\n",
      "Male 0.17\n",
      "Mouth_Slightly_Open 0.03\n",
      "Smiling 0.04\n",
      "Wearing_Lipstick 0.06\n"
     ]
    }
   ],
   "source": [
    "# spread between \n",
    "spread = np.abs(np.round(np.sum(data, axis = 0)/len(df), 2))\n",
    "balance = spread < 0.2\n",
    "bs = col_names[balance]\n",
    "for i, j in zip(bs, spread[balance]): print (i, j)"
   ]
  },
  {
   "cell_type": "code",
   "execution_count": 44,
   "metadata": {
    "collapsed": false
   },
   "outputs": [
    {
     "data": {
      "text/plain": [
       "array(['Arched_Eyebrows', 'Bags_Under_Eyes', 'Big_Lips', 'Big_Nose',\n",
       "       'Black_Hair', 'Brown_Hair', 'Oval_Face', 'Pointy_Nose',\n",
       "       'Straight_Hair', 'Young'], dtype='<U19')"
      ]
     },
     "execution_count": 44,
     "metadata": {},
     "output_type": "execute_result"
    }
   ],
   "source": [
    "imbalance = np.logical_and(spread > 0.40, spread < 0.6)\n",
    "ubs = col_names[imbalance]\n",
    "ubs"
   ]
  },
  {
   "cell_type": "code",
   "execution_count": 45,
   "metadata": {
    "collapsed": false
   },
   "outputs": [
    {
     "name": "stdout",
     "output_type": "stream",
     "text": [
      "both, only even, only niche, neither\n",
      "Attractive Oval_Face\n",
      "[0.189 0.323 0.095 0.393]\n",
      "***********\n",
      "Male Arched_Eyebrows\n",
      "[0.022 0.394 0.245 0.339]\n",
      "***********\n",
      "Male Oval_Face\n",
      "[0.092 0.325 0.192 0.391]\n",
      "***********\n",
      "Male Pointy_Nose\n",
      "[0.068 0.349 0.21  0.373]\n",
      "***********\n"
     ]
    }
   ],
   "source": [
    "print('both, only even, only niche, neither')\n",
    "for b in bs:\n",
    "    for u in ubs:\n",
    "        both_vec = np.logical_and(df[b], df[u])\n",
    "        both = np.abs(np.round(1.0 * np.sum(both_vec, axis = 0)/len(df), 3))\n",
    "        \n",
    "        only_b_vec = np.logical_and(df[b], np.logical_not(df[u]))\n",
    "        only_b = np.abs(np.round(1.0 * np.sum(only_b_vec, axis = 0)/len(df), 3))\n",
    "        \n",
    "        only_ub_vec = np.logical_and(np.logical_not(df[b]), df[u])\n",
    "        only_ub = np.abs(np.round(1.0 * np.sum(only_ub_vec, axis = 0)/len(df), 3))\n",
    "        \n",
    "        neither_vec = np.logical_and(np.logical_not(df[b]), np.logical_not(df[u]))\n",
    "        neither = np.abs(np.round(1.0 * np.sum(neither_vec, axis = 0)/len(df), 3))\n",
    "        \n",
    "        vals = np.array([both, only_b, only_ub, neither])\n",
    "        if np.sum(vals <= 0.15) == 1:\n",
    "            rest = vals[vals > 0.15]\n",
    "            i, j, k = rest\n",
    "            diffs = np.abs(np.array([i-j, j-k, k-i]))\n",
    "            if not np.sum(diffs > 0.21):\n",
    "                print(b, u)\n",
    "                print(vals)\n",
    "                print('***********')\n"
   ]
  },
  {
   "cell_type": "code",
   "execution_count": null,
   "metadata": {
    "collapsed": true
   },
   "outputs": [],
   "source": []
  }
 ],
 "metadata": {
  "kernelspec": {
   "display_name": "exposure-bias",
   "language": "python",
   "name": "exposure-bias"
  },
  "language_info": {
   "codemirror_mode": {
    "name": "ipython",
    "version": 3
   },
   "file_extension": ".py",
   "mimetype": "text/x-python",
   "name": "python",
   "nbconvert_exporter": "python",
   "pygments_lexer": "ipython3",
   "version": "3.7.9"
  }
 },
 "nbformat": 4,
 "nbformat_minor": 2
}
