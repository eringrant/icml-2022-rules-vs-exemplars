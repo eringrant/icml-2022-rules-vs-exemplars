{
 "cells": [
  {
   "cell_type": "code",
   "execution_count": 1,
   "metadata": {
    "scrolled": false
   },
   "outputs": [
    {
     "name": "stdout",
     "output_type": "stream",
     "text": [
      "['partial_exposure_1_has_film_763', 'zero_shot_1_has_film_234', 'partial_exposure_1_has_film_234', 'zero_shot_1_has_film_763', 'conflict_1_has_film_763', 'conflict_1_has_film_234']\n"
     ]
    }
   ],
   "source": [
    "from collections import namedtuple\n",
    "from functools import partial\n",
    "import numpy as np\n",
    "import pandas as pd\n",
    "import matplotlib.pyplot as plt\n",
    "from matplotlib.ticker import PercentFormatter\n",
    "%matplotlib inline  \n",
    "import os\n",
    "import re \n",
    "import seaborn as sb\n",
    "import pprint\n",
    "from IPython.display import display, HTML\n",
    "\n",
    "path = f'{os.environ[\"HOME\"]}/exposure-bias/'\n",
    "runs = os.listdir(path)\n",
    "runs = list(filter(lambda x: os.path.isfile(os.path.join(path, x, 'test_results.csv')), runs))\n",
    "runs = list(filter(lambda x: \"has_film\" in x, runs))  # filter for CelebA\n",
    "files = list(map(lambda f: os.path.join(f, 'test_results.csv'), runs))\n",
    "assert len(runs) > 0\n",
    "print(runs)"
   ]
  },
  {
   "cell_type": "code",
   "execution_count": 2,
   "metadata": {
    "scrolled": true
   },
   "outputs": [
    {
     "data": {
      "text/html": [
       "<div>\n",
       "<style scoped>\n",
       "    .dataframe tbody tr th:only-of-type {\n",
       "        vertical-align: middle;\n",
       "    }\n",
       "\n",
       "    .dataframe tbody tr th {\n",
       "        vertical-align: top;\n",
       "    }\n",
       "\n",
       "    .dataframe thead th {\n",
       "        text-align: right;\n",
       "    }\n",
       "</style>\n",
       "<table border=\"1\" class=\"dataframe\">\n",
       "  <thead>\n",
       "    <tr style=\"text-align: right;\">\n",
       "      <th></th>\n",
       "      <th>correct</th>\n",
       "      <th>discriminator</th>\n",
       "      <th>distractor</th>\n",
       "      <th>exposure condition</th>\n",
       "    </tr>\n",
       "  </thead>\n",
       "  <tbody>\n",
       "    <tr>\n",
       "      <th>0</th>\n",
       "      <td>0</td>\n",
       "      <td>1</td>\n",
       "      <td>1</td>\n",
       "      <td>zero-shot</td>\n",
       "    </tr>\n",
       "    <tr>\n",
       "      <th>1</th>\n",
       "      <td>0</td>\n",
       "      <td>1</td>\n",
       "      <td>1</td>\n",
       "      <td>zero-shot</td>\n",
       "    </tr>\n",
       "    <tr>\n",
       "      <th>2</th>\n",
       "      <td>0</td>\n",
       "      <td>1</td>\n",
       "      <td>1</td>\n",
       "      <td>zero-shot</td>\n",
       "    </tr>\n",
       "    <tr>\n",
       "      <th>3</th>\n",
       "      <td>0</td>\n",
       "      <td>1</td>\n",
       "      <td>1</td>\n",
       "      <td>zero-shot</td>\n",
       "    </tr>\n",
       "    <tr>\n",
       "      <th>4</th>\n",
       "      <td>1</td>\n",
       "      <td>1</td>\n",
       "      <td>1</td>\n",
       "      <td>zero-shot</td>\n",
       "    </tr>\n",
       "  </tbody>\n",
       "</table>\n",
       "</div>"
      ],
      "text/plain": [
       "   correct  discriminator  distractor exposure condition\n",
       "0        0              1           1          zero-shot\n",
       "1        0              1           1          zero-shot\n",
       "2        0              1           1          zero-shot\n",
       "3        0              1           1          zero-shot\n",
       "4        1              1           1          zero-shot"
      ]
     },
     "execution_count": 2,
     "metadata": {},
     "output_type": "execute_result"
    }
   ],
   "source": [
    "prefix_len = 23\n",
    "\n",
    "dfs = []\n",
    "for fname in files:\n",
    "    fpath = os.path.join(path, fname)\n",
    "    \n",
    "    fname = fname.replace('cnflct', 'conflict')\n",
    "    fname = fname.replace('zr_sht', 'zero-shot')\n",
    "    fname = fname.replace('prtl_xpsr', 'partial-exposure')\n",
    "    fname = fname.replace('dscrmntr', 'discriminator')\n",
    "    fname = fname.replace('dstrctr', 'distractor')\n",
    "     \n",
    "    df = pd.read_csv(fpath)\n",
    "    df = df.loc[:, ~df.columns.str.contains('^Unnamed')]\n",
    "    \n",
    "    if 'conflict' in fname:\n",
    "        df['exposure condition'] = 'cue-conflict'\n",
    "    elif 'zero_shot' in fname:\n",
    "        df['exposure condition'] = 'zero-shot'\n",
    "    elif 'partial_exposure' in fname:\n",
    "        df['exposure condition'] = 'partial-exposure'\n",
    "    else:\n",
    "        ValueError('Unknown exposure condition.')\n",
    "        \n",
    "    # Backwards compat.\n",
    "    #if 'discriminator attribute' not in df:\n",
    "    #    matches = re.search('discriminator_([A-Za-z_]*)-distractor_([A-Za-z_]*)', fname)\n",
    "    #    df['discriminator attribute'] = matches.group(1)\n",
    "    #    df['distractor attribute'] = matches.group(2)\n",
    "        \n",
    "    dfs.append(df)\n",
    "    \n",
    "dfs[1].head()"
   ]
  },
  {
   "cell_type": "code",
   "execution_count": 3,
   "metadata": {
    "scrolled": false
   },
   "outputs": [
    {
     "ename": "IndexError",
     "evalue": "index 0 is out of bounds for axis 0 with size 0",
     "output_type": "error",
     "traceback": [
      "\u001b[0;31m---------------------------------------------------------------------------\u001b[0m",
      "\u001b[0;31mIndexError\u001b[0m                                Traceback (most recent call last)",
      "\u001b[0;32m<ipython-input-3-80cff92aa4ad>\u001b[0m in \u001b[0;36m<module>\u001b[0;34m\u001b[0m\n\u001b[1;32m     36\u001b[0m \u001b[0mon_on_DF\u001b[0m \u001b[0;34m=\u001b[0m \u001b[0mpd\u001b[0m\u001b[0;34m.\u001b[0m\u001b[0mDataFrame\u001b[0m\u001b[0;34m(\u001b[0m\u001b[0mdata\u001b[0m\u001b[0;34m=\u001b[0m\u001b[0mmap\u001b[0m\u001b[0;34m(\u001b[0m\u001b[0msummarize_df\u001b[0m\u001b[0;34m,\u001b[0m \u001b[0mmap\u001b[0m\u001b[0;34m(\u001b[0m\u001b[0mon_on_filter\u001b[0m\u001b[0;34m,\u001b[0m \u001b[0mdfs\u001b[0m\u001b[0;34m)\u001b[0m\u001b[0;34m)\u001b[0m\u001b[0;34m)\u001b[0m\u001b[0;34m\u001b[0m\u001b[0;34m\u001b[0m\u001b[0m\n\u001b[1;32m     37\u001b[0m \u001b[0mon_off_DF\u001b[0m \u001b[0;34m=\u001b[0m \u001b[0mpd\u001b[0m\u001b[0;34m.\u001b[0m\u001b[0mDataFrame\u001b[0m\u001b[0;34m(\u001b[0m\u001b[0mdata\u001b[0m\u001b[0;34m=\u001b[0m\u001b[0mmap\u001b[0m\u001b[0;34m(\u001b[0m\u001b[0msummarize_df\u001b[0m\u001b[0;34m,\u001b[0m \u001b[0mmap\u001b[0m\u001b[0;34m(\u001b[0m\u001b[0mon_off_filter\u001b[0m\u001b[0;34m,\u001b[0m \u001b[0mdfs\u001b[0m\u001b[0;34m)\u001b[0m\u001b[0;34m)\u001b[0m\u001b[0;34m)\u001b[0m\u001b[0;34m\u001b[0m\u001b[0;34m\u001b[0m\u001b[0m\n\u001b[0;32m---> 38\u001b[0;31m \u001b[0moff_on_DF\u001b[0m \u001b[0;34m=\u001b[0m \u001b[0mpd\u001b[0m\u001b[0;34m.\u001b[0m\u001b[0mDataFrame\u001b[0m\u001b[0;34m(\u001b[0m\u001b[0mdata\u001b[0m\u001b[0;34m=\u001b[0m\u001b[0mmap\u001b[0m\u001b[0;34m(\u001b[0m\u001b[0msummarize_df\u001b[0m\u001b[0;34m,\u001b[0m \u001b[0mmap\u001b[0m\u001b[0;34m(\u001b[0m\u001b[0moff_on_filter\u001b[0m\u001b[0;34m,\u001b[0m \u001b[0mdfs\u001b[0m\u001b[0;34m)\u001b[0m\u001b[0;34m)\u001b[0m\u001b[0;34m)\u001b[0m\u001b[0;34m\u001b[0m\u001b[0;34m\u001b[0m\u001b[0m\n\u001b[0m\u001b[1;32m     39\u001b[0m \u001b[0moff_off_DF\u001b[0m \u001b[0;34m=\u001b[0m \u001b[0mpd\u001b[0m\u001b[0;34m.\u001b[0m\u001b[0mDataFrame\u001b[0m\u001b[0;34m(\u001b[0m\u001b[0mdata\u001b[0m\u001b[0;34m=\u001b[0m\u001b[0mmap\u001b[0m\u001b[0;34m(\u001b[0m\u001b[0msummarize_df\u001b[0m\u001b[0;34m,\u001b[0m \u001b[0mmap\u001b[0m\u001b[0;34m(\u001b[0m\u001b[0moff_off_filter\u001b[0m\u001b[0;34m,\u001b[0m \u001b[0mdfs\u001b[0m\u001b[0;34m)\u001b[0m\u001b[0;34m)\u001b[0m\u001b[0;34m)\u001b[0m\u001b[0;34m\u001b[0m\u001b[0;34m\u001b[0m\u001b[0m\n\u001b[1;32m     40\u001b[0m \u001b[0mall_quadrants_DF\u001b[0m \u001b[0;34m=\u001b[0m \u001b[0mpd\u001b[0m\u001b[0;34m.\u001b[0m\u001b[0mDataFrame\u001b[0m\u001b[0;34m(\u001b[0m\u001b[0mdata\u001b[0m\u001b[0;34m=\u001b[0m\u001b[0mmap\u001b[0m\u001b[0;34m(\u001b[0m\u001b[0msummarize_df\u001b[0m\u001b[0;34m,\u001b[0m \u001b[0mdfs\u001b[0m\u001b[0;34m)\u001b[0m\u001b[0;34m)\u001b[0m\u001b[0;34m\u001b[0m\u001b[0;34m\u001b[0m\u001b[0m\n",
      "\u001b[0;32m~/opt/anaconda3/envs/exposure-bias/lib/python3.8/site-packages/pandas/core/frame.py\u001b[0m in \u001b[0;36m__init__\u001b[0;34m(self, data, index, columns, dtype, copy)\u001b[0m\n\u001b[1;32m    561\u001b[0m         \u001b[0;32melif\u001b[0m \u001b[0misinstance\u001b[0m\u001b[0;34m(\u001b[0m\u001b[0mdata\u001b[0m\u001b[0;34m,\u001b[0m \u001b[0mabc\u001b[0m\u001b[0;34m.\u001b[0m\u001b[0mIterable\u001b[0m\u001b[0;34m)\u001b[0m \u001b[0;32mand\u001b[0m \u001b[0;32mnot\u001b[0m \u001b[0misinstance\u001b[0m\u001b[0;34m(\u001b[0m\u001b[0mdata\u001b[0m\u001b[0;34m,\u001b[0m \u001b[0;34m(\u001b[0m\u001b[0mstr\u001b[0m\u001b[0;34m,\u001b[0m \u001b[0mbytes\u001b[0m\u001b[0;34m)\u001b[0m\u001b[0;34m)\u001b[0m\u001b[0;34m:\u001b[0m\u001b[0;34m\u001b[0m\u001b[0;34m\u001b[0m\u001b[0m\n\u001b[1;32m    562\u001b[0m             \u001b[0;32mif\u001b[0m \u001b[0;32mnot\u001b[0m \u001b[0misinstance\u001b[0m\u001b[0;34m(\u001b[0m\u001b[0mdata\u001b[0m\u001b[0;34m,\u001b[0m \u001b[0;34m(\u001b[0m\u001b[0mabc\u001b[0m\u001b[0;34m.\u001b[0m\u001b[0mSequence\u001b[0m\u001b[0;34m,\u001b[0m \u001b[0mExtensionArray\u001b[0m\u001b[0;34m)\u001b[0m\u001b[0;34m)\u001b[0m\u001b[0;34m:\u001b[0m\u001b[0;34m\u001b[0m\u001b[0;34m\u001b[0m\u001b[0m\n\u001b[0;32m--> 563\u001b[0;31m                 \u001b[0mdata\u001b[0m \u001b[0;34m=\u001b[0m \u001b[0mlist\u001b[0m\u001b[0;34m(\u001b[0m\u001b[0mdata\u001b[0m\u001b[0;34m)\u001b[0m\u001b[0;34m\u001b[0m\u001b[0;34m\u001b[0m\u001b[0m\n\u001b[0m\u001b[1;32m    564\u001b[0m             \u001b[0;32mif\u001b[0m \u001b[0mlen\u001b[0m\u001b[0;34m(\u001b[0m\u001b[0mdata\u001b[0m\u001b[0;34m)\u001b[0m \u001b[0;34m>\u001b[0m \u001b[0;36m0\u001b[0m\u001b[0;34m:\u001b[0m\u001b[0;34m\u001b[0m\u001b[0;34m\u001b[0m\u001b[0m\n\u001b[1;32m    565\u001b[0m                 \u001b[0;32mif\u001b[0m \u001b[0mis_dataclass\u001b[0m\u001b[0;34m(\u001b[0m\u001b[0mdata\u001b[0m\u001b[0;34m[\u001b[0m\u001b[0;36m0\u001b[0m\u001b[0;34m]\u001b[0m\u001b[0;34m)\u001b[0m\u001b[0;34m:\u001b[0m\u001b[0;34m\u001b[0m\u001b[0;34m\u001b[0m\u001b[0m\n",
      "\u001b[0;32m<ipython-input-3-80cff92aa4ad>\u001b[0m in \u001b[0;36msummarize_df\u001b[0;34m(df)\u001b[0m\n\u001b[1;32m     18\u001b[0m                                    \u001b[0;31m#'CI95_accuracy',\u001b[0m\u001b[0;34m\u001b[0m\u001b[0;34m\u001b[0m\u001b[0;34m\u001b[0m\u001b[0m\n\u001b[1;32m     19\u001b[0m                                   ))\n\u001b[0;32m---> 20\u001b[0;31m     return Result(df['exposure condition'].unique()[0], \n\u001b[0m\u001b[1;32m     21\u001b[0m                   \u001b[0;31m#df['discriminator attribute'].unique()[0],\u001b[0m\u001b[0;34m\u001b[0m\u001b[0;34m\u001b[0m\u001b[0;34m\u001b[0m\u001b[0m\n\u001b[1;32m     22\u001b[0m                   \u001b[0;31m#df['distractor attribute'].unique()[0],\u001b[0m\u001b[0;34m\u001b[0m\u001b[0;34m\u001b[0m\u001b[0;34m\u001b[0m\u001b[0m\n",
      "\u001b[0;31mIndexError\u001b[0m: index 0 is out of bounds for axis 0 with size 0"
     ]
    }
   ],
   "source": [
    "def p(df):\n",
    "    display(HTML(df.to_html()))\n",
    "\n",
    "from statistics import NormalDist\n",
    "\n",
    "def confidence_interval(data, confidence=0.95):\n",
    "  dist = NormalDist.from_samples(data)\n",
    "  z = NormalDist().inv_cdf((1 + confidence) / 2.)\n",
    "  h = dist.stdev * z / ((len(data) - 1) ** .5)\n",
    "  return dist.mean - h, dist.mean + h\n",
    "\n",
    "def summarize_df(df):\n",
    "    Result = namedtuple('Result', ('exposure_condition', \n",
    "                                   #'discriminator_attribute',\n",
    "                                   #'distractor_attribute',\n",
    "                                   'mean_accuracy', \n",
    "                                   #'std_accuracy', \n",
    "                                   #'CI95_accuracy',\n",
    "                                  ))\n",
    "    return Result(df['exposure condition'].unique()[0], \n",
    "                  #df['discriminator attribute'].unique()[0],\n",
    "                  #df['distractor attribute'].unique()[0],\n",
    "                  df['correct'].mean(),\n",
    "                  #df['correct'].std(),\n",
    "                  #confidence_interval(df['correct']),\n",
    "                  )\n",
    "\n",
    "def filter_quadrants(df, disc, dist):\n",
    "    return df.query(f'discriminator == {disc} & distractor == {dist}')\n",
    "\n",
    "off_off_filter = partial(filter_quadrants, disc=0, dist=0)\n",
    "on_off_filter = partial(filter_quadrants, disc=1, dist=0)\n",
    "off_on_filter = partial(filter_quadrants, disc=0, dist=1)\n",
    "on_on_filter = partial(filter_quadrants, disc=1, dist=1)\n",
    "\n",
    "on_on_DF = pd.DataFrame(data=map(summarize_df, map(on_on_filter, dfs)))\n",
    "on_off_DF = pd.DataFrame(data=map(summarize_df, map(on_off_filter, dfs)))\n",
    "off_on_DF = pd.DataFrame(data=map(summarize_df, map(off_on_filter, dfs)))\n",
    "off_off_DF = pd.DataFrame(data=map(summarize_df, map(off_off_filter, dfs)))\n",
    "all_quadrants_DF = pd.DataFrame(data=map(summarize_df, dfs))\n",
    "\n",
    "# Filter by >80% test accuracy on the second quadrant.\n",
    "valid_idx = on_off_DF['mean_accuracy'] > 0.90\n",
    "off_off_DF = off_off_DF[valid_idx]\n",
    "on_off_DF = on_off_DF[valid_idx]\n",
    "off_on_DF = off_on_DF[valid_idx]\n",
    "on_on_DF = on_on_DF[valid_idx]\n",
    "all_quadrants_DF = all_quadrants_DF[valid_idx]\n",
    "all_quadrants_DF"
   ]
  },
  {
   "cell_type": "code",
   "execution_count": null,
   "metadata": {
    "scrolled": false
   },
   "outputs": [],
   "source": [
    "from statistics import NormalDist\n",
    "\n",
    "def ci95(x, confidence=0.95):\n",
    "    if len(x) == 1:\n",
    "        return np.NaN\n",
    "    dist = NormalDist.from_samples(x)\n",
    "    z = NormalDist().inv_cdf((1 + confidence) / 2.)\n",
    "    return dist.stdev * z / ((len(x) - 1) ** .5)\n",
    "\n",
    "def mean_ci95(x):\n",
    "    return f\"{np.mean(x) * 100:.2f}   ±   {ci95(x) * 100:.2f}%    (N={len(x)})\"\n",
    "\n",
    "def pivot(df):\n",
    "    return pd.pivot_table(df, \n",
    "                          values=['mean_accuracy'], \n",
    "                          aggfunc=(mean_ci95,),\n",
    "                          index=['discriminator_attribute',\n",
    "                                 'distractor_attribute',],\n",
    "                          columns=['exposure_condition'],\n",
    "                         )\n",
    "\n",
    "pivot(off_off_DF)"
   ]
  },
  {
   "cell_type": "code",
   "execution_count": null,
   "metadata": {
    "scrolled": false
   },
   "outputs": [],
   "source": [
    "pivot(on_off_DF)"
   ]
  },
  {
   "cell_type": "code",
   "execution_count": null,
   "metadata": {
    "scrolled": false
   },
   "outputs": [],
   "source": [
    "pivot(off_on_DF)"
   ]
  },
  {
   "cell_type": "code",
   "execution_count": null,
   "metadata": {
    "scrolled": false
   },
   "outputs": [],
   "source": [
    "pivot(on_on_DF)"
   ]
  },
  {
   "cell_type": "code",
   "execution_count": 7,
   "metadata": {},
   "outputs": [],
   "source": [
    "from matplotlib.patches import Rectangle\n",
    "grid_size = 3\n",
    "cm = sb.diverging_palette(120, 271)\n",
    "\n",
    "def show_values_on_bars(axs, h_v=\"v\", space=0.4):\n",
    "    \"\"\"From https://stackoverflow.com/a/56780852.\"\"\"\n",
    "    def _show_on_single_plot(ax):\n",
    "        if h_v == \"v\":\n",
    "            for p in ax.patches:\n",
    "                _x = p.get_x() + p.get_width() / 2\n",
    "                _y = p.get_y() + p.get_height() + float(space)\n",
    "                value = f\"{p.get_height() * 100:.1f}%\"\n",
    "                ax.text(_x, _y, value, ha=\"center\") \n",
    "        elif h_v == \"h\":\n",
    "            for p in ax.patches:\n",
    "                _x = p.get_x() + p.get_width() + float(space)\n",
    "                _y = p.get_y() + p.get_height() / 2\n",
    "                value = f\"{p.get_width() * 100:.1f}%\"\n",
    "                ax.text(_x, _y, value, ha=\"left\", size=14, weight='bold')\n",
    "\n",
    "    if isinstance(axs, np.ndarray):\n",
    "        for idx, ax in np.ndenumerate(axs):\n",
    "            _show_on_single_plot(ax)\n",
    "    else:\n",
    "        _show_on_single_plot(axs)\n",
    "\n",
    "def two_by_two(cond, disc, dist):\n",
    "    assert cond in ['cue-conflict', 'partial-exposure', 'zero-shot']\n",
    "    def acc_by_condition(df):\n",
    "        accs = df[np.logical_and.reduce(\n",
    "          (df[\"discriminator_attribute\"] == disc, \n",
    "          df[\"distractor_attribute\"] == dist,\n",
    "          df[\"exposure_condition\"] == cond,)\n",
    "      )]['mean_accuracy']\n",
    "        return np.mean(accs)#, ci95(accs)\n",
    "\n",
    "    return np.transpose(\n",
    "           [[acc_by_condition(off_off_DF), acc_by_condition(on_off_DF)], \n",
    "            [acc_by_condition(off_on_DF), acc_by_condition(on_on_DF)]]) \n",
    "\n",
    "shading = 2\n",
    "purple = np.array([148, 103, 189]) / 255. / shading\n",
    "green = np.array([ 44, 160,  44]) / 255. / shading\n",
    "\n",
    "\n",
    "def plot_two_by_two(cc_df, zs_df, pe_df, x_axis_labels, y_axis_labels, title=None):\n",
    "    # green to purple\n",
    "    fig, axes = plt.subplots(nrows=1, ncols=4, figsize=(grid_size*4, grid_size))\n",
    "    #plt.suptitle(title)\n",
    "    #fig.subplots_adjust(top=0.8)\n",
    "\n",
    "    def heatmap(df, idx, condition_name, xlabel, ylabel):\n",
    "        # mod bottom row data to be 1 - x\n",
    "        mod_df = df.copy()\n",
    "        mod_df[1, :] = 1 - mod_df[1, :]\n",
    "        \n",
    "        # plot heatmap\n",
    "        ax = sb.heatmap(ax=axes[idx], data=mod_df, annot=df, fmt=f\".1%\", cmap=cm,\n",
    "                        vmin=0, vmax=1, cbar=False, linewidths=10.0, linecolor='white',\n",
    "                       )\n",
    "        ax.tick_params(left=False, bottom=False)\n",
    "        #ax.tick_params(labelleft=True, labelbottom=True)\n",
    "        if xlabel:\n",
    "            ax.set_xticklabels(x_axis_labels, rotation=0)\n",
    "        else:\n",
    "            ax.tick_params(labelbottom=False)\n",
    "        if ylabel:\n",
    "            ax.set_yticklabels(y_axis_labels, rotation=0)\n",
    "        else:\n",
    "            ax.tick_params(labelleft=False)\n",
    "        ax.set_title(condition_name)\n",
    "        \n",
    "        linewidth = 4\n",
    "        adjust = .08\n",
    "        if not condition_name == 'Cue Conflict':\n",
    "            ax.add_patch(Rectangle((0+.1, 0+adjust), 1-2*adjust, 1-2*adjust, ec=purple, fc='none', lw=linewidth, hatch='//'))\n",
    "        if not condition_name == 'Zero-shot':\n",
    "            ax.add_patch(Rectangle((1+adjust, 0+adjust), 1-2*adjust, 1-2*adjust, ec=purple, fc='none', lw=linewidth, hatch='//'))\n",
    "        ax.add_patch(Rectangle((0+adjust, 1+adjust), 1-2*adjust, 1-2*adjust, ec=green, fc='none', lw=linewidth, hatch='//'))\n",
    "        \n",
    "        ax.texts[0].set_size(13)\n",
    "        ax.texts[1].set_size(13)\n",
    "        ax.texts[2].set_size(13)\n",
    "        \n",
    "        if condition_name == 'Cue Conflict':\n",
    "            ax.texts[3].set_size(13)\n",
    "        else:\n",
    "            ax.texts[3].set_weight('bold')\n",
    "            ax.texts[3].set_size(14)\n",
    "        \n",
    "        ax.hlines([1], *ax.get_xlim())\n",
    "\n",
    "        \n",
    "    heatmap(cc_df, 0, 'Cue Conflict', x_axis_labels, y_axis_labels)\n",
    "    heatmap(zs_df, 1, 'Zero-shot', x_axis_labels, None)\n",
    "    heatmap(pe_df, 2, 'Partial Exposure', x_axis_labels, None)\n",
    "    \n",
    "    pe_effect = sb.barplot(ax=axes[3], x=[zs_df[-1, -1] - pe_df[-1, -1]], y=[0],\n",
    "               orient='h', color='orange')\n",
    "    \n",
    "    # make bar skinnier\n",
    "    newwidth = .4\n",
    "    bar = pe_effect.patches[0]\n",
    "    x = bar.get_y()\n",
    "    width = bar.get_height()\n",
    "    centre = x + width/2.\n",
    "    bar.set_y(centre - newwidth/2.)\n",
    "    bar.set_height(newwidth)\n",
    "    \n",
    "    pe_effect.set(xlim=(0, 1))\n",
    "    pe_effect.tick_params(left=False, bottom=True)\n",
    "    pe_effect.tick_params(labelleft=False)#, labelbottom=False)\n",
    "    pe_effect.set_title('Partial Exposure Effect')\n",
    "    pe_effect.xaxis.set_major_formatter(PercentFormatter(1))\n",
    "    show_values_on_bars(pe_effect, \"h\", 0.1)\n",
    "    pe_effect.set_frame_on(False) #Remove both axes\n",
    "    #pe_effect.axhline(0,color='black') #Put the x axis back\n",
    "    \n",
    "    # yticks\n",
    "    plt.yticks(rotation=0)\n",
    "    plt.savefig(f'{disc}_{dist}.png', dpi=300)\n",
    "    plt.show()"
   ]
  },
  {
   "cell_type": "markdown",
   "metadata": {},
   "source": [
    "a = np.array([[0, 10],\n",
    "            [1, 11]])\n",
    "a"
   ]
  },
  {
   "cell_type": "code",
   "execution_count": null,
   "metadata": {},
   "outputs": [],
   "source": [
    "disc , dist = \"Mth_Slghtl_pn\", \"Wrng_Lpstck\"\n",
    "plot_two_by_two(\n",
    "    two_by_two('cue-conflict', disc, dist),\n",
    "    two_by_two('zero-shot', disc, dist),\n",
    "    two_by_two('partial-exposure', disc, dist),\n",
    "    ['no\\nlipstick', 'wearing\\nlipstick'], ['mouth\\nclosed', 'mouth\\nslightly\\nopen'], \n",
    ")"
   ]
  },
  {
   "cell_type": "markdown",
   "metadata": {},
   "source": [
    "# Temporary visualization\n",
    "\n",
    "This plot was generated based on hand-computed data, and should be replaced with the 4-quadrants plot."
   ]
  },
  {
   "cell_type": "code",
   "execution_count": 8,
   "metadata": {},
   "outputs": [
    {
     "data": {
      "image/png": "[encoded data removed]",
      "text/plain": [
       "<Figure size 432x288 with 1 Axes>"
      ]
     },
     "metadata": {
      "needs_background": "light"
     },
     "output_type": "display_data"
    }
   ],
   "source": [
    "ax = sb.barplot(x=[\"Cue Conflict\", \"Zero-shot\", \"Partial Exposure\"], \n",
    "                y=[0.197, 0.84,.301],\n",
    "                \n",
    "                )\n",
    "ax.set(ylim=(0, 1))\n",
    "ax.yaxis.set_major_formatter(PercentFormatter(1))\n",
    "show_values_on_bars(ax, \"v\", 0.02)\n",
    "ax.set_frame_on(False)\n",
    "plt.savefig(f'imdb_accuracies.png', dpi=300)"
   ]
  },
  {
   "cell_type": "code",
   "execution_count": 9,
   "metadata": {},
   "outputs": [
    {
     "data": {
      "image/png": "[encoded data removed]",
      "text/plain": [
       "<Figure size 432x288 with 1 Axes>"
      ]
     },
     "metadata": {
      "needs_background": "light"
     },
     "output_type": "display_data"
    }
   ],
   "source": [
    "pe_effect = sb.barplot( x=[0.84 - .301], y=[0],\n",
    "           orient='h', color='orange')\n",
    "\n",
    "# make bar skinnier\n",
    "newwidth = .4\n",
    "bar = pe_effect.patches[0]\n",
    "x = bar.get_y()\n",
    "width = bar.get_height()\n",
    "centre = x + width/2.\n",
    "bar.set_y(centre - newwidth/2.)\n",
    "bar.set_height(newwidth)\n",
    "\n",
    "pe_effect.set(xlim=(0, 1))\n",
    "pe_effect.tick_params(left=False, bottom=True)\n",
    "pe_effect.tick_params(labelleft=False)#, labelbottom=False)\n",
    "pe_effect.set_title('Partial Exposure Effect')\n",
    "pe_effect.xaxis.set_major_formatter(PercentFormatter(1))\n",
    "show_values_on_bars(pe_effect, \"h\", 0.1)\n",
    "pe_effect.set_frame_on(False) #Remove both axes\n",
    "#pe_effect.axhline(0,color='black') #Put the x axis back\n",
    "\n",
    "ax = sb.barplot(y=[\"Partial Exposure Effect\"], \n",
    "                 x=[0.84 - .301],\n",
    "                orient='h'\n",
    "                )\n",
    "plt.savefig(f'imdb_partial_exposure.png', dpi=300)\n"
   ]
  },
  {
   "cell_type": "code",
   "execution_count": 10,
   "metadata": {},
   "outputs": [
    {
     "ename": "NameError",
     "evalue": "name 'off_off_DF' is not defined",
     "output_type": "error",
     "traceback": [
      "\u001b[0;31m---------------------------------------------------------------------------\u001b[0m",
      "\u001b[0;31mNameError\u001b[0m                                 Traceback (most recent call last)",
      "\u001b[0;32m<ipython-input-10-8ecd2c708801>\u001b[0m in \u001b[0;36m<module>\u001b[0;34m\u001b[0m\n\u001b[1;32m      1\u001b[0m \u001b[0mdisc\u001b[0m \u001b[0;34m,\u001b[0m \u001b[0mdist\u001b[0m \u001b[0;34m=\u001b[0m \u001b[0;34m\"Wrng_Lpstck\"\u001b[0m\u001b[0;34m,\u001b[0m \u001b[0;34m\"Mth_Slghtl_pn\"\u001b[0m\u001b[0;34m\u001b[0m\u001b[0;34m\u001b[0m\u001b[0m\n\u001b[1;32m      2\u001b[0m plot_two_by_two(\n\u001b[0;32m----> 3\u001b[0;31m     \u001b[0mtwo_by_two\u001b[0m\u001b[0;34m(\u001b[0m\u001b[0;34m'cue-conflict'\u001b[0m\u001b[0;34m,\u001b[0m \u001b[0mdisc\u001b[0m\u001b[0;34m,\u001b[0m \u001b[0mdist\u001b[0m\u001b[0;34m)\u001b[0m\u001b[0;34m,\u001b[0m\u001b[0;34m\u001b[0m\u001b[0;34m\u001b[0m\u001b[0m\n\u001b[0m\u001b[1;32m      4\u001b[0m     \u001b[0mtwo_by_two\u001b[0m\u001b[0;34m(\u001b[0m\u001b[0;34m'zero-shot'\u001b[0m\u001b[0;34m,\u001b[0m \u001b[0mdisc\u001b[0m\u001b[0;34m,\u001b[0m \u001b[0mdist\u001b[0m\u001b[0;34m)\u001b[0m\u001b[0;34m,\u001b[0m\u001b[0;34m\u001b[0m\u001b[0;34m\u001b[0m\u001b[0m\n\u001b[1;32m      5\u001b[0m     \u001b[0mtwo_by_two\u001b[0m\u001b[0;34m(\u001b[0m\u001b[0;34m'partial-exposure'\u001b[0m\u001b[0;34m,\u001b[0m \u001b[0mdisc\u001b[0m\u001b[0;34m,\u001b[0m \u001b[0mdist\u001b[0m\u001b[0;34m)\u001b[0m\u001b[0;34m,\u001b[0m\u001b[0;34m\u001b[0m\u001b[0;34m\u001b[0m\u001b[0m\n",
      "\u001b[0;32m<ipython-input-7-12ce0174cbe1>\u001b[0m in \u001b[0;36mtwo_by_two\u001b[0;34m(cond, disc, dist)\u001b[0m\n\u001b[1;32m     36\u001b[0m \u001b[0;34m\u001b[0m\u001b[0m\n\u001b[1;32m     37\u001b[0m     return np.transpose(\n\u001b[0;32m---> 38\u001b[0;31m            [[acc_by_condition(off_off_DF), acc_by_condition(on_off_DF)], \n\u001b[0m\u001b[1;32m     39\u001b[0m             [acc_by_condition(off_on_DF), acc_by_condition(on_on_DF)]]) \n\u001b[1;32m     40\u001b[0m \u001b[0;34m\u001b[0m\u001b[0m\n",
      "\u001b[0;31mNameError\u001b[0m: name 'off_off_DF' is not defined"
     ]
    }
   ],
   "source": [
    "disc , dist = \"Wrng_Lpstck\", \"Mth_Slghtl_pn\"\n",
    "plot_two_by_two(\n",
    "    two_by_two('cue-conflict', disc, dist),\n",
    "    two_by_two('zero-shot', disc, dist),\n",
    "    two_by_two('partial-exposure', disc, dist),\n",
    "    ['mouth\\nclosed', 'mouth\\nslightly\\nopen'], ['no\\nlipstick', 'wearing\\nlipstick']\n",
    ")"
   ]
  },
  {
   "cell_type": "code",
   "execution_count": 11,
   "metadata": {},
   "outputs": [],
   "source": [
    "#plt.savefig(f'{disc}_{dist}.png', dpi=300)"
   ]
  },
  {
   "cell_type": "code",
   "execution_count": null,
   "metadata": {},
   "outputs": [],
   "source": []
  }
 ],
 "metadata": {
  "kernelspec": {
   "display_name": "Python 3",
   "language": "python",
   "name": "python3"
  },
  "language_info": {
   "codemirror_mode": {
    "name": "ipython",
    "version": 3
   },
   "file_extension": ".py",
   "mimetype": "text/x-python",
   "name": "python",
   "nbconvert_exporter": "python",
   "pygments_lexer": "ipython3",
   "version": "3.8.5"
  }
 },
 "nbformat": 4,
 "nbformat_minor": 2
}
